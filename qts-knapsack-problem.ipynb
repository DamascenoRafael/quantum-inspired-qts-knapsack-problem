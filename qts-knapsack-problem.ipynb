{
 "cells": [
  {
   "cell_type": "code",
   "execution_count": 1,
   "metadata": {},
   "outputs": [],
   "source": [
    "import numpy as np\n",
    "import math\n",
    "from pathlib import Path"
   ]
  },
  {
   "cell_type": "code",
   "execution_count": 2,
   "metadata": {},
   "outputs": [],
   "source": [
    "class Qitem:\n",
    "    def __init__(self, value=None, weight=None, alpha=math.sqrt(1/2), beta=math.sqrt(1/2)):\n",
    "        self.alpha = alpha\n",
    "        self.beta = beta\n",
    "        self.value = value\n",
    "        self.weight = weight\n",
    "    \n",
    "    def measure(self):\n",
    "        return 1 if np.random.random_sample() > self.beta**2 else 0\n",
    "    \n",
    "    def update(self, m):\n",
    "        self.alpha = m[0][0] * self.alpha + m[0][1] * self.beta\n",
    "        self.beta = m[1][0] * self.alpha + m[1][1] * self.beta"
   ]
  },
  {
   "cell_type": "code",
   "execution_count": 3,
   "metadata": {},
   "outputs": [],
   "source": [
    "def calc_m(delta):\n",
    "    return [[math.cos(delta), -math.sin(delta)], [math.sin(delta), math.cos(delta)]]"
   ]
  },
  {
   "cell_type": "code",
   "execution_count": 4,
   "metadata": {},
   "outputs": [],
   "source": [
    "def measure_individuals(Q):\n",
    "    return [q.measure() for q in Q]"
   ]
  },
  {
   "cell_type": "code",
   "execution_count": 5,
   "metadata": {},
   "outputs": [],
   "source": [
    "def fit_solution(Q, q):\n",
    "    value = 0\n",
    "    weight = 0\n",
    "\n",
    "    for i, measure in enumerate(q):\n",
    "        value += measure*(Q[i].value)\n",
    "        weight += measure*(Q[i].weight)\n",
    "    \n",
    "    return value, weight"
   ]
  },
  {
   "cell_type": "code",
   "execution_count": 6,
   "metadata": {},
   "outputs": [],
   "source": [
    "def repair_solution(Q, q, w_capacity, v_i, w_i):\n",
    "    while w_i > w_capacity:\n",
    "        index = np.random.randint(0, len(q)-1)\n",
    "        if q[index]:\n",
    "            q[index] = 0\n",
    "            v_i -= Q[index].value\n",
    "            w_i -= Q[index].weight\n",
    "    \n",
    "    return v_i, w_i"
   ]
  },
  {
   "cell_type": "code",
   "execution_count": 7,
   "metadata": {},
   "outputs": [],
   "source": [
    "def get_neighborhood(Q, population):\n",
    "    return [[q.measure() for q in Q] for p in range(population)]"
   ]
  },
  {
   "cell_type": "code",
   "execution_count": 8,
   "metadata": {},
   "outputs": [],
   "source": [
    "def fit_and_repair(Q, s_i, w_capacity):\n",
    "    v_s, w_s = fit_solution(Q, s_i)\n",
    "    if w_s > w_capacity:\n",
    "        v_s, w_s = repair_solution(Q, s_i, w_capacity, v_s, w_s)\n",
    "    return v_s, w_s"
   ]
  },
  {
   "cell_type": "code",
   "execution_count": 15,
   "metadata": {},
   "outputs": [],
   "source": [
    "def fit_and_repair_neighborhood(Q, neighborhood, w_capacity):\n",
    "    solutions = []\n",
    "    for i, s_i in enumerate(neighborhood):       \n",
    "        solutions.append([s_i, *fit_and_repair(Q, s_i, w_capacity)])\n",
    "    return solutions"
   ]
  },
  {
   "cell_type": "code",
   "execution_count": 16,
   "metadata": {},
   "outputs": [],
   "source": [
    "def update_state(Q, delta, T, tabu_itt, s_i, s_c, is_best):\n",
    "    for i, q in enumerate(Q):\n",
    "        if T.setdefault(i, 0) == 0:\n",
    "            continue\n",
    "        diff = s_c[i] - s_i[i]\n",
    "        if diff == 0:\n",
    "            continue\n",
    "        if not is_best: \n",
    "            diff *= -1\n",
    "        if Q[i].alpha * Q[i].beta < 0:\n",
    "            diff *= -1\n",
    "        \n",
    "        Q[i].update(calc_m(delta*diff))\n",
    "        T[i] = tabu_itt"
   ]
  },
  {
   "cell_type": "code",
   "execution_count": 33,
   "metadata": {},
   "outputs": [],
   "source": [
    "def qts(itt, delta, population, tabu_itt, file):\n",
    "    Q = []\n",
    "    T = dict()\n",
    "    w_capacity = 0\n",
    "    n_items = 0\n",
    "    optimum = 0\n",
    "    s_i = None\n",
    "    \n",
    "    best_sol = []\n",
    "\n",
    "    with open(file) as f:\n",
    "        n_items = int(f.readline().split()[1])\n",
    "        w_capacity = int(f.readline().split()[1])\n",
    "        optimum = int(f.readline().split()[1])\n",
    "        f.readline()\n",
    "        for line in f:\n",
    "            _, lineV, lineW, _ = list(map(int, line.split(',')))\n",
    "            Q.append(Qitem(lineV, lineW))\n",
    "    \n",
    "    s_i = measure_individuals(Q)\n",
    "\n",
    "    v_i, w_i = fit_and_repair(Q, s_i, w_capacity)\n",
    "    \n",
    "    best_sol = [s_i, v_i, w_i]\n",
    "    print('optimum', optimum)\n",
    "    print('-1', best_sol[1])\n",
    "    \n",
    "    while itt>0:\n",
    "        itt -= 1\n",
    "        neighborhood = get_neighborhood(Q,population)\n",
    "        solutions = fit_and_repair_neighborhood(Q, neighborhood, w_capacity)\n",
    "        c_best_sol = max(solutions, key=lambda x: x[1])\n",
    "        c_worst_sol = min(solutions, key=lambda x: x[1])\n",
    "        \n",
    "        if(c_best_sol[1]>best_sol[1] or (c_best_sol[1]==best_sol[1] and c_best_sol[2]<best_sol[2])):\n",
    "            best_sol = c_best_sol[:]\n",
    "            print(itt, best_sol[1])\n",
    "            \n",
    "        for key, value in list(T.items()):\n",
    "            T[key] -= 1\n",
    "            if T[key]==0:\n",
    "                del T[key]\n",
    "        \n",
    "        update_state(Q, delta, T, tabu_itt, s_i, c_best_sol[0], True)\n",
    "        s_i = measure_individuals(Q)\n",
    "        \n",
    "        update_state(Q, delta, T, tabu_itt, s_i, c_worst_sol[0], False)\n",
    "        s_i = measure_individuals(Q)"
   ]
  },
  {
   "cell_type": "code",
   "execution_count": 41,
   "metadata": {},
   "outputs": [
    {
     "name": "stdout",
     "output_type": "stream",
     "text": [
      "optimum 3198\n",
      "-1 2301\n",
      "999 2691\n",
      "998 2886\n",
      "972 3120\n"
     ]
    }
   ],
   "source": [
    "teste = Path('./data/500_13.csv')\n",
    "# qts(1000, 0.01*math.pi, 10, 1, teste)\n",
    "qts(1000, 0.01*math.pi, 100, 2, teste)"
   ]
  },
  {
   "cell_type": "code",
   "execution_count": null,
   "metadata": {},
   "outputs": [],
   "source": []
  },
  {
   "cell_type": "code",
   "execution_count": null,
   "metadata": {},
   "outputs": [],
   "source": []
  }
 ],
 "metadata": {
  "kernelspec": {
   "display_name": "Python 3",
   "language": "python",
   "name": "python3"
  },
  "language_info": {
   "codemirror_mode": {
    "name": "ipython",
    "version": 3
   },
   "file_extension": ".py",
   "mimetype": "text/x-python",
   "name": "python",
   "nbconvert_exporter": "python",
   "pygments_lexer": "ipython3",
   "version": "3.7.3"
  }
 },
 "nbformat": 4,
 "nbformat_minor": 2
}
